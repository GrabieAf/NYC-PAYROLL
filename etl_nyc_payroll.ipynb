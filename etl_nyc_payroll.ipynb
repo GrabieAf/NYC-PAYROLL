{
 "cells": [
  {
   "cell_type": "markdown",
   "metadata": {},
   "source": [
    "#### Importing the neccessary libraries and dependencies"
   ]
  },
  {
   "cell_type": "code",
   "execution_count": 1,
   "metadata": {},
   "outputs": [
    {
     "name": "stdout",
     "output_type": "stream",
     "text": [
      "Requirement already satisfied: pandas in c:\\users\\abiol\\.conda\\envs\\nycpayrollenv\\lib\\site-packages (2.2.3)\n",
      "Requirement already satisfied: numpy>=1.22.4 in c:\\users\\abiol\\.conda\\envs\\nycpayrollenv\\lib\\site-packages (from pandas) (2.0.2)\n",
      "Requirement already satisfied: python-dateutil>=2.8.2 in c:\\users\\abiol\\.conda\\envs\\nycpayrollenv\\lib\\site-packages (from pandas) (2.9.0.post0)\n",
      "Requirement already satisfied: pytz>=2020.1 in c:\\users\\abiol\\.conda\\envs\\nycpayrollenv\\lib\\site-packages (from pandas) (2025.1)\n",
      "Requirement already satisfied: tzdata>=2022.7 in c:\\users\\abiol\\.conda\\envs\\nycpayrollenv\\lib\\site-packages (from pandas) (2025.1)\n",
      "Requirement already satisfied: six>=1.5 in c:\\users\\abiol\\.conda\\envs\\nycpayrollenv\\lib\\site-packages (from python-dateutil>=2.8.2->pandas) (1.17.0)\n"
     ]
    }
   ],
   "source": [
    "!pip install pandas"
   ]
  },
  {
   "cell_type": "code",
   "execution_count": 2,
   "metadata": {},
   "outputs": [],
   "source": [
    "#Import libraries\n",
    "import pandas as pd \n",
    "from sqlalchemy import create_engine\n",
    "from pyspark.sql.functions import lit\n",
    "# Import PySpark libraries\n",
    "from pyspark.sql import SparkSession\n",
    "from pyspark.sql.functions import col, trim, to_date\n",
    "\n",
    "# Initialize a Spark session\n",
    "spark = SparkSession.builder \\\n",
    "    .appName(\"NYC Payroll ETL\") \\\n",
    "    .getOrCreate()\n"
   ]
  },
  {
   "cell_type": "code",
   "execution_count": 3,
   "metadata": {},
   "outputs": [
    {
     "data": {
      "text/html": [
       "\n",
       "            <div>\n",
       "                <p><b>SparkSession - in-memory</b></p>\n",
       "                \n",
       "        <div>\n",
       "            <p><b>SparkContext</b></p>\n",
       "\n",
       "            <p><a href=\"http://192.168.1.142:4040\">Spark UI</a></p>\n",
       "\n",
       "            <dl>\n",
       "              <dt>Version</dt>\n",
       "                <dd><code>v3.5.3</code></dd>\n",
       "              <dt>Master</dt>\n",
       "                <dd><code>local[*]</code></dd>\n",
       "              <dt>AppName</dt>\n",
       "                <dd><code>NYC Payroll ETL</code></dd>\n",
       "            </dl>\n",
       "        </div>\n",
       "        \n",
       "            </div>\n",
       "        "
      ],
      "text/plain": [
       "<pyspark.sql.session.SparkSession at 0x1d32f537dc0>"
      ]
     },
     "execution_count": 3,
     "metadata": {},
     "output_type": "execute_result"
    }
   ],
   "source": [
    "spark"
   ]
  },
  {
   "cell_type": "markdown",
   "metadata": {},
   "source": [
    "### Data Extraction"
   ]
  },
  {
   "cell_type": "code",
   "execution_count": 4,
   "metadata": {},
   "outputs": [],
   "source": [
    "#extract and convert the cvs into dataframe using spark\n",
    "AgencyMaster_df = spark.read.csv(r'C:\\Users\\abiol\\OneDrive\\Desktop\\10ANALYTICS DATA ENGINEERING\\NYC PAYROLL PROJECT\\NYC-PAYROLL\\datasets\\AgencyMaster.csv', header=True, inferSchema=True)\n",
    "EmpMaster_df = spark.read.csv(r'datasets\\EmpMaster.csv', header=True, inferSchema=True)\n",
    "TitleMaster_df = spark.read.csv(r'datasets\\TitleMaster.csv', header=True, inferSchema=True)\n"
   ]
  },
  {
   "cell_type": "code",
   "execution_count": 5,
   "metadata": {},
   "outputs": [
    {
     "name": "stdout",
     "output_type": "stream",
     "text": [
      "+--------+--------------------+\n",
      "|AgencyID|          AgencyName|\n",
      "+--------+--------------------+\n",
      "|    2001|ADMIN FOR CHILDRE...|\n",
      "|    2002|ADMIN TRIALS AND ...|\n",
      "|    2003| BOARD OF CORRECTION|\n",
      "|    2004|   BOARD OF ELECTION|\n",
      "|    2005|BOARD OF ELECTION...|\n",
      "+--------+--------------------+\n",
      "only showing top 5 rows\n",
      "\n",
      "+----------+--------+---------+\n",
      "|EmployeeID|LastName|FirstName|\n",
      "+----------+--------+---------+\n",
      "|    100001|  AACHEN|    DAVID|\n",
      "|    100002|  AACHEN|   MONICA|\n",
      "|    100003|  AADAMS|  LAMMELL|\n",
      "|    100004|   AADIL|     IRIS|\n",
      "|    100005|  AALAAM|     AMIR|\n",
      "+----------+--------+---------+\n",
      "only showing top 5 rows\n",
      "\n",
      "+---------+--------------------+\n",
      "|TitleCode|    TitleDescription|\n",
      "+---------+--------------------+\n",
      "|    40001|*ADM SCHOOL SECUR...|\n",
      "|    40002|*ADMIN SCHL SECUR...|\n",
      "|    40003|    *AGENCY ATTORNEY|\n",
      "|    40004|*ASSISTANT ADVOCA...|\n",
      "|    40005|*ASSOCIATE EDUCAT...|\n",
      "+---------+--------------------+\n",
      "only showing top 5 rows\n",
      "\n"
     ]
    }
   ],
   "source": [
    "AgencyMaster_df.show(5)\n",
    "EmpMaster_df.show(5)\n",
    "TitleMaster_df.show(5)\n"
   ]
  },
  {
   "cell_type": "code",
   "execution_count": 6,
   "metadata": {},
   "outputs": [
    {
     "name": "stdout",
     "output_type": "stream",
     "text": [
      "root\n",
      " |-- AgencyID: integer (nullable = true)\n",
      " |-- AgencyName: string (nullable = true)\n",
      "\n",
      "root\n",
      " |-- EmployeeID: integer (nullable = true)\n",
      " |-- LastName: string (nullable = true)\n",
      " |-- FirstName: string (nullable = true)\n",
      "\n",
      "root\n",
      " |-- TitleCode: integer (nullable = true)\n",
      " |-- TitleDescription: string (nullable = true)\n",
      "\n"
     ]
    }
   ],
   "source": [
    "#checking for the right datatype for each column in various dataframes\n",
    "AgencyMaster_df.printSchema()\n",
    "EmpMaster_df.printSchema()\n",
    "TitleMaster_df.printSchema()"
   ]
  },
  {
   "cell_type": "code",
   "execution_count": 7,
   "metadata": {},
   "outputs": [
    {
     "name": "stdout",
     "output_type": "stream",
     "text": [
      "+--------+----------+\n",
      "|AgencyID|AgencyName|\n",
      "+--------+----------+\n",
      "|       0|         0|\n",
      "+--------+----------+\n",
      "\n"
     ]
    }
   ],
   "source": [
    "#Checking for missing values in the dataframe\n",
    "from pyspark.sql.functions import col, count, when\n",
    "\n",
    "AgencyMaster_df.select(\n",
    "    [count(when(col(c).isNull(), c)).alias(c) for c in AgencyMaster_df.columns]\n",
    ").show()\n"
   ]
  },
  {
   "cell_type": "code",
   "execution_count": 8,
   "metadata": {},
   "outputs": [
    {
     "name": "stdout",
     "output_type": "stream",
     "text": [
      "+----------+--------+---------+\n",
      "|EmployeeID|LastName|FirstName|\n",
      "+----------+--------+---------+\n",
      "|         0|       0|        0|\n",
      "+----------+--------+---------+\n",
      "\n"
     ]
    }
   ],
   "source": [
    "#Checking for missing values in the dataframe\n",
    "EmpMaster_df.select(\n",
    "    [count(when(col(c).isNull(), c)).alias(c) for c in EmpMaster_df.columns]\n",
    ").show()"
   ]
  },
  {
   "cell_type": "code",
   "execution_count": 9,
   "metadata": {},
   "outputs": [
    {
     "name": "stdout",
     "output_type": "stream",
     "text": [
      "+---------+----------------+\n",
      "|TitleCode|TitleDescription|\n",
      "+---------+----------------+\n",
      "|        0|               1|\n",
      "+---------+----------------+\n",
      "\n"
     ]
    }
   ],
   "source": [
    "#Checking for missing values in the dataframe\n",
    "TitleMaster_df.select(\n",
    "    [count(when(col(c).isNull(), c)).alias(c) for c in TitleMaster_df.columns]\n",
    ").show()"
   ]
  },
  {
   "cell_type": "code",
   "execution_count": 10,
   "metadata": {},
   "outputs": [],
   "source": [
    "#dropping the column with missing values\n",
    "TitleMaster_df = TitleMaster_df.dropna(subset=[\"TitleDescription\"])\n"
   ]
  },
  {
   "cell_type": "code",
   "execution_count": 11,
   "metadata": {},
   "outputs": [
    {
     "name": "stdout",
     "output_type": "stream",
     "text": [
      "+---------+----------------+\n",
      "|TitleCode|TitleDescription|\n",
      "+---------+----------------+\n",
      "|        0|               0|\n",
      "+---------+----------------+\n",
      "\n"
     ]
    }
   ],
   "source": [
    "TitleMaster_df.select(\n",
    "    [count(when(col(c).isNull(), c)).alias(c) for c in TitleMaster_df.columns]\n",
    ").show()"
   ]
  },
  {
   "cell_type": "code",
   "execution_count": null,
   "metadata": {},
   "outputs": [],
   "source": []
  },
  {
   "cell_type": "code",
   "execution_count": 12,
   "metadata": {},
   "outputs": [],
   "source": [
    "#extract and convert the cvs into dataframe using spark\n",
    "nycpayroll2020_df = spark.read.csv(r'datasets\\nycpayroll_2020.csv', header=True, inferSchema=True)\n",
    "nycpayroll2021_df = spark.read.csv(r'datasets\\nycpayroll_2021.csv', header=True, inferSchema=True)"
   ]
  },
  {
   "cell_type": "code",
   "execution_count": 13,
   "metadata": {},
   "outputs": [
    {
     "name": "stdout",
     "output_type": "stream",
     "text": [
      "+----------+-------------+--------+--------------------+----------+----------+---------+---------------+-------------------+---------+--------------------+---------------------+----------+---------+------------+----------------+-------+-----------+-------------+\n",
      "|FiscalYear|PayrollNumber|AgencyID|          AgencyName|EmployeeID|  LastName|FirstName|AgencyStartDate|WorkLocationBorough|TitleCode|    TitleDescription|LeaveStatusasofJune30|BaseSalary| PayBasis|RegularHours|RegularGrossPaid|OTHours|TotalOTPaid|TotalOtherPay|\n",
      "+----------+-------------+--------+--------------------+----------+----------+---------+---------------+-------------------+---------+--------------------+---------------------+----------+---------+------------+----------------+-------+-----------+-------------+\n",
      "|      2020|           17|    2120|OFFICE OF EMERGEN...|     10001|    GEAGER| VERONICA|      9/12/2016|           BROOKLYN|    40447|EMERGENCY PREPARE...|               ACTIVE|   86005.0|per Annum|      1820.0|        84698.21|    0.0|        0.0|          0.0|\n",
      "|      2020|           17|    2120|OFFICE OF EMERGEN...|    149612|     ROTTA| JONATHAN|      9/16/2013|           BROOKLYN|    40447|EMERGENCY PREPARE...|               ACTIVE|   86005.0|per Annum|      1820.0|        84698.21|    0.0|        0.0|          0.0|\n",
      "|      2020|           17|    2120|OFFICE OF EMERGEN...|    206583| WILSON II|   ROBERT|      4/30/2018|           BROOKLYN|    40447|EMERGENCY PREPARE...|               ACTIVE|   86005.0|per Annum|      1820.0|        84698.21|    0.0|        0.0|          0.0|\n",
      "|      2020|           17|    2120|OFFICE OF EMERGEN...|    199874|WASHINGTON|   MORIAH|      3/18/2019|           BROOKLYN|    40447|EMERGENCY PREPARE...|               ACTIVE|   86005.0|per Annum|      1820.0|        87900.95|    0.0|        0.0|     -3202.74|\n",
      "|      2020|           17|    2120|OFFICE OF EMERGEN...|     58036|  KRAWCZYK|   AMANDA|      5/15/2017|           BROOKLYN|    40447|EMERGENCY PREPARE...|               ACTIVE|   86005.0|per Annum|      1820.0|        83976.54|    0.0|        0.0|          0.0|\n",
      "+----------+-------------+--------+--------------------+----------+----------+---------+---------------+-------------------+---------+--------------------+---------------------+----------+---------+------------+----------------+-------+-----------+-------------+\n",
      "only showing top 5 rows\n",
      "\n",
      "+----------+-------------+----------+--------------------+----------+-----------+---------+---------------+-------------------+---------+-------------------+---------------------+----------+---------+------------+----------------+-------+-----------+-------------+\n",
      "|FiscalYear|PayrollNumber|AgencyCode|          AgencyName|EmployeeID|   LastName|FirstName|AgencyStartDate|WorkLocationBorough|TitleCode|   TitleDescription|LeaveStatusasofJune30|BaseSalary| PayBasis|RegularHours|RegularGrossPaid|OTHours|TotalOTPaid|TotalOtherPay|\n",
      "+----------+-------------+----------+--------------------+----------+-----------+---------+---------------+-------------------+---------+-------------------+---------------------+----------+---------+------------+----------------+-------+-----------+-------------+\n",
      "|      2021|          996|      2153|NYC HOUSING AUTHO...|    209184|MUSTACIUOLO|     VITO|      2/26/2018|          MANHATTAN|    40475| EXECUTIVE DIRECTOR|               ACTIVE|  258000.0|per Annum|        1820|        257260.3|    0.0|        0.0|     258000.0|\n",
      "|      2021|          996|      2153|NYC HOUSING AUTHO...|    302330|       RUSS|  GREGORY|      8/12/2019|          MANHATTAN|    41143|              CHAIR|               ACTIVE|  414707.0|per Annum|        1820|       413518.05|    0.0|        0.0|        500.0|\n",
      "|      2021|          816|      2129|DEPT OF HEALTH/ME...|     49788|   HALLAHAN|  PATRICK|      2/26/2018|           BROOKLYN|    40782|STATIONARY ENGINEER|               ACTIVE|     508.8|  per Day|        2080|        132288.0|2115.25|  218628.18|     56616.07|\n",
      "|      2021|          816|      2129|DEPT OF HEALTH/ME...|    251626|     PETTIT|  PATRICK|       8/2/2010|          MANHATTAN|    40782|STATIONARY ENGINEER|               ACTIVE|     508.8|  per Day|        2080|        132288.0|2152.75|  218694.96|     38611.82|\n",
      "|      2021|          816|      2129|DEPT OF HEALTH/ME...|    364376|   TELEHANY|  STEPHEN|      1/16/2007|             QUEENS|    40782|STATIONARY ENGINEER|               ACTIVE|     508.8|  per Day|        2080|        132288.0|1876.25|  192296.19|      51160.2|\n",
      "+----------+-------------+----------+--------------------+----------+-----------+---------+---------------+-------------------+---------+-------------------+---------------------+----------+---------+------------+----------------+-------+-----------+-------------+\n",
      "only showing top 5 rows\n",
      "\n"
     ]
    }
   ],
   "source": [
    "nycpayroll2020_df.show(5)\n",
    "nycpayroll2021_df.show(5)"
   ]
  },
  {
   "cell_type": "code",
   "execution_count": 14,
   "metadata": {},
   "outputs": [
    {
     "name": "stdout",
     "output_type": "stream",
     "text": [
      "Columns do not match! Fixing column differences...\n",
      "Extra columns in 2020: {'agencyid'}\n",
      "Extra columns in 2021: {'agencycode'}\n"
     ]
    }
   ],
   "source": [
    "# Convert column names to lowercase and remove extra spaces\n",
    "nycpayroll2020_df = nycpayroll2020_df.toDF(*[col.lower().strip() for col in nycpayroll2020_df.columns])\n",
    "nycpayroll2021_df = nycpayroll2021_df.toDF(*[col.lower().strip() for col in nycpayroll2021_df.columns])\n",
    "\n",
    "# Check if columns match\n",
    "payroll2020 = set(nycpayroll2020_df.columns)\n",
    "payroll2021 = set(nycpayroll2021_df.columns)\n",
    "\n",
    "if payroll2020 != payroll2021:\n",
    "    print(\"Columns do not match! Fixing column differences...\")\n",
    "    print(\"Extra columns in 2020:\", payroll2020 - payroll2021)\n",
    "    print(\"Extra columns in 2021:\", payroll2021 - payroll2020)\n",
    "else:\n",
    "    print(\"Columns match, ready to merge.\")\n"
   ]
  },
  {
   "cell_type": "markdown",
   "metadata": {},
   "source": [
    "#### The above function shows there are missing columns in each dataset payroll2020 & payroll2021, We will proceed to merge both dataset into one"
   ]
  },
  {
   "cell_type": "code",
   "execution_count": 15,
   "metadata": {},
   "outputs": [
    {
     "name": "stdout",
     "output_type": "stream",
     "text": [
      "+----------+--------+--------------------+---------------+----------+----------+---------+----------+-------------+---------------------+-------+---------+-------------+----------------+------------+---------+--------------------+-------------+-----------+-------------------+\n",
      "|agencycode|agencyid|          agencyname|agencystartdate|basesalary|employeeid|firstname|fiscalyear|     lastname|leavestatusasofjune30|othours| paybasis|payrollnumber|regulargrosspaid|regularhours|titlecode|    titledescription|totalotherpay|totalotpaid|worklocationborough|\n",
      "+----------+--------+--------------------+---------------+----------+----------+---------+----------+-------------+---------------------+-------+---------+-------------+----------------+------------+---------+--------------------+-------------+-----------+-------------------+\n",
      "|      NULL|    2120|OFFICE OF EMERGEN...|      9/12/2016|   86005.0|     10001| VERONICA|      2020|       GEAGER|               ACTIVE|    0.0|per Annum|           17|        84698.21|      1820.0|    40447|EMERGENCY PREPARE...|          0.0|        0.0|           BROOKLYN|\n",
      "|      NULL|    2120|OFFICE OF EMERGEN...|      9/16/2013|   86005.0|    149612| JONATHAN|      2020|        ROTTA|               ACTIVE|    0.0|per Annum|           17|        84698.21|      1820.0|    40447|EMERGENCY PREPARE...|          0.0|        0.0|           BROOKLYN|\n",
      "|      NULL|    2120|OFFICE OF EMERGEN...|      4/30/2018|   86005.0|    206583|   ROBERT|      2020|    WILSON II|               ACTIVE|    0.0|per Annum|           17|        84698.21|      1820.0|    40447|EMERGENCY PREPARE...|          0.0|        0.0|           BROOKLYN|\n",
      "|      NULL|    2120|OFFICE OF EMERGEN...|      3/18/2019|   86005.0|    199874|   MORIAH|      2020|   WASHINGTON|               ACTIVE|    0.0|per Annum|           17|        87900.95|      1820.0|    40447|EMERGENCY PREPARE...|     -3202.74|        0.0|           BROOKLYN|\n",
      "|      NULL|    2120|OFFICE OF EMERGEN...|      5/15/2017|   86005.0|     58036|   AMANDA|      2020|     KRAWCZYK|               ACTIVE|    0.0|per Annum|           17|        83976.54|      1820.0|    40447|EMERGENCY PREPARE...|          0.0|        0.0|           BROOKLYN|\n",
      "|      NULL|    2120|OFFICE OF EMERGEN...|      12/1/2014|   86005.0|    104393|  JALEESA|      2020|      MURRELL|               ACTIVE|    0.0|per Annum|           17|        83877.36|      1820.0|    40447|EMERGENCY PREPARE...|          0.0|        0.0|           BROOKLYN|\n",
      "|      NULL|    2120|OFFICE OF EMERGEN...|      6/30/2014|  236088.0|    186781|   JOSEPH|      2020|     ESPOSITO|               CEASED|    0.0|per Annum|           17|         2716.38|        21.0|    40285|COMMISSIONER OF E...|     80141.89|        0.0|           BROOKLYN|\n",
      "|      NULL|    2120|OFFICE OF EMERGEN...|      6/27/2016|   86005.0|    149700|    CAROL|      2020|        CHANG|               ACTIVE|   15.0|per Annum|           17|        81887.99|      1820.0|    40447|EMERGENCY PREPARE...|        29.97|     679.33|           BROOKLYN|\n",
      "|      NULL|    2120|OFFICE OF EMERGEN...|     11/20/2017|   83791.0|    121565|  MICHAEL|      2020|    BEILINSON|               ACTIVE|    0.0|per Annum|           17|        82517.67|      1820.0|    40447|EMERGENCY PREPARE...|          0.0|        0.0|           BROOKLYN|\n",
      "|      NULL|    2120|OFFICE OF EMERGEN...|       1/4/2016|   83791.0|    141167|     TODD|      2020|    CALLENDER|               ACTIVE|    0.0|per Annum|           17|        82517.67|      1820.0|    40447|EMERGENCY PREPARE...|          0.0|        0.0|           BROOKLYN|\n",
      "|      NULL|    2120|OFFICE OF EMERGEN...|       4/6/2015|   73049.0|    123132|   JUSTIN|      2020|      BENNETT|               ACTIVE| 175.25|per Annum|           17|        71938.89|      1820.0|    40448|EMERGENCY PREPARE...|        120.1|    8786.47|           BROOKLYN|\n",
      "|      NULL|    2120|OFFICE OF EMERGEN...|     10/10/2017|   66603.0|     97057|  CHERISE|      2020|     MOHAMMED|               ACTIVE|  352.0|per Annum|           17|        64110.28|      1820.0|    40448|EMERGENCY PREPARE...|        26.71|   16667.92|           BROOKLYN|\n",
      "|      NULL|    2120|OFFICE OF EMERGEN...|     11/26/2018|   68751.0|    155154| SAMANTHA|      2020|     CLEMENTS|               ACTIVE|  237.0|per Annum|           17|        67706.51|      1820.0|    40448|EMERGENCY PREPARE...|       566.13|   11332.32|           BROOKLYN|\n",
      "|      NULL|    2120|OFFICE OF EMERGEN...|      9/27/2010|   71231.0|    115541|  JILLIAN|      2020|OSORIO-SUAREZ|               ACTIVE|  32.25|per Annum|           17|         70148.5|      1820.0|    40448|EMERGENCY PREPARE...|      6860.54|    1314.22|           BROOKLYN|\n",
      "|      NULL|    2120|OFFICE OF EMERGEN...|       1/3/2017|   73317.0|     96376|  MATTHEW|      2020|     MITCHELL|               ACTIVE|  113.5|per Annum|           17|        72203.21|      1820.0|    40448|EMERGENCY PREPARE...|       458.37|    5643.55|           BROOKLYN|\n",
      "|      NULL|    2120|OFFICE OF EMERGEN...|       3/4/2019|   67980.0|    143597|    KAYLI|      2020|      CAPSHAW|               ACTIVE|  216.0|per Annum|           17|        66947.11|      1820.0|    40448|EMERGENCY PREPARE...|        469.3|   10630.76|           BROOKLYN|\n",
      "|      NULL|    2120|OFFICE OF EMERGEN...|     12/10/2018|   73049.0|    181023|  AMINATA|      2020|      DUMBUYA|               ACTIVE|  127.0|per Annum|           17|        70352.18|      1820.0|    40448|EMERGENCY PREPARE...|       431.81|    6574.12|           BROOKLYN|\n",
      "|      NULL|    2120|OFFICE OF EMERGEN...|       3/5/2018|   59083.0|    152023|  MICHAEL|      2020|  CHIRICHELLA|               ACTIVE|  395.5|per Annum|           17|        58185.25|      1820.0|    40448|EMERGENCY PREPARE...|       252.14|   17255.06|           BROOKLYN|\n",
      "|      NULL|    2120|OFFICE OF EMERGEN...|      9/12/2016|   66603.0|    158677| BRITTANY|      2020|     SCHILIRO|               ACTIVE| 199.25|per Annum|           17|        65591.04|      1820.0|    40448|EMERGENCY PREPARE...|        324.4|    9713.85|           BROOKLYN|\n",
      "|      NULL|    2120|OFFICE OF EMERGEN...|      5/28/2017|   66603.0|    135408|  TASHAWN|      2020|        BROWN|               ACTIVE|  192.0|per Annum|           17|        65591.04|      1820.0|    40448|EMERGENCY PREPARE...|        769.6|    8757.41|           BROOKLYN|\n",
      "+----------+--------+--------------------+---------------+----------+----------+---------+----------+-------------+---------------------+-------+---------+-------------+----------------+------------+---------+--------------------+-------------+-----------+-------------------+\n",
      "only showing top 20 rows\n",
      "\n"
     ]
    }
   ],
   "source": [
    "from pyspark.sql import SparkSession\n",
    "from pyspark.sql.functions import lit\n",
    "\n",
    "# Initialize Spark Session\n",
    "spark = SparkSession.builder.appName(\"Merge DataFrames\").getOrCreate()\n",
    "\n",
    "# Standardizing column names (convert to lowercase and remove spaces)\n",
    "nycpayroll2020_df = nycpayroll2020_df.toDF(*[col.lower().strip() for col in nycpayroll2020_df.columns])\n",
    "nycpayroll2021_df = nycpayroll2021_df.toDF(*[col.lower().strip() for col in nycpayroll2021_df.columns])\n",
    "\n",
    "# Get column sets for each DataFrame\n",
    "payroll2020 = set(nycpayroll2020_df.columns)\n",
    "payroll2021 = set(nycpayroll2021_df.columns)\n",
    "\n",
    "# Identify extra columns in each dataset\n",
    "# Columns in 2020 but not in 2021\n",
    "extra_2020columns = list(payroll2020 - payroll2021) \n",
    "    \n",
    "# Columns in 2021 but not in 2020\n",
    "extra_2021columns = list(payroll2021 - payroll2020)  \n",
    "\n",
    "# Add missing columns with NULL values\n",
    "for col_name in extra_2020columns:\n",
    "    nycpayroll2021_df = nycpayroll2021_df.withColumn(col_name, lit(None))  \n",
    "\n",
    "for col_name in extra_2021columns:\n",
    "    nycpayroll2020_df = nycpayroll2020_df.withColumn(col_name, lit(None))  \n",
    "\n",
    "# Ensure both DataFrames have the same column order\n",
    "common_columns = sorted(payroll2020.union(payroll2021))  \n",
    "nycpayroll2020_df = nycpayroll2020_df.select(common_columns)  \n",
    "nycpayroll2021_df = nycpayroll2021_df.select(common_columns)  \n",
    "\n",
    "# Merge both DataFrames\n",
    "mergedpayroll_df = nycpayroll2020_df.unionByName(nycpayroll2021_df)\n",
    "\n",
    "# Show merged dataset\n",
    "mergedpayroll_df.show()\n"
   ]
  },
  {
   "cell_type": "code",
   "execution_count": 16,
   "metadata": {},
   "outputs": [
    {
     "name": "stdout",
     "output_type": "stream",
     "text": [
      "The number of columns are: 20\n",
      "The number of rows are: 201\n",
      "The shape of the dataframe mergedpayroll_df: (201, 20)\n"
     ]
    }
   ],
   "source": [
    "mergedpayroll_df.columns\n",
    "\n",
    "#number of columns\n",
    "num_cols = len(mergedpayroll_df.columns)\n",
    "print('The number of columns are:', num_cols)\n",
    "\n",
    "#number of rows\n",
    "num_rows = mergedpayroll_df.count()\n",
    "\n",
    "print('The number of rows are:', num_rows)\n",
    "\n",
    "print(f'The shape of the dataframe mergedpayroll_df: ({num_rows}, {num_cols})')\n"
   ]
  },
  {
   "cell_type": "code",
   "execution_count": 17,
   "metadata": {},
   "outputs": [
    {
     "name": "stdout",
     "output_type": "stream",
     "text": [
      "root\n",
      " |-- agencycode: integer (nullable = true)\n",
      " |-- agencyid: integer (nullable = true)\n",
      " |-- agencyname: string (nullable = true)\n",
      " |-- agencystartdate: string (nullable = true)\n",
      " |-- basesalary: double (nullable = true)\n",
      " |-- employeeid: integer (nullable = true)\n",
      " |-- firstname: string (nullable = true)\n",
      " |-- fiscalyear: integer (nullable = true)\n",
      " |-- lastname: string (nullable = true)\n",
      " |-- leavestatusasofjune30: string (nullable = true)\n",
      " |-- othours: double (nullable = true)\n",
      " |-- paybasis: string (nullable = true)\n",
      " |-- payrollnumber: integer (nullable = true)\n",
      " |-- regulargrosspaid: double (nullable = true)\n",
      " |-- regularhours: double (nullable = true)\n",
      " |-- titlecode: integer (nullable = true)\n",
      " |-- titledescription: string (nullable = true)\n",
      " |-- totalotherpay: double (nullable = true)\n",
      " |-- totalotpaid: double (nullable = true)\n",
      " |-- worklocationborough: string (nullable = true)\n",
      "\n"
     ]
    }
   ],
   "source": [
    "mergedpayroll_df.printSchema()"
   ]
  },
  {
   "cell_type": "markdown",
   "metadata": {},
   "source": [
    "### Data Cleaning"
   ]
  },
  {
   "cell_type": "code",
   "execution_count": 18,
   "metadata": {},
   "outputs": [
    {
     "name": "stdout",
     "output_type": "stream",
     "text": [
      "agencycode Nulls 100\n",
      "agencyid Nulls 101\n",
      "agencyname Nulls 0\n",
      "agencystartdate Nulls 0\n",
      "basesalary Nulls 0\n",
      "employeeid Nulls 0\n",
      "firstname Nulls 0\n",
      "fiscalyear Nulls 0\n",
      "lastname Nulls 0\n",
      "leavestatusasofjune30 Nulls 0\n",
      "othours Nulls 0\n",
      "paybasis Nulls 0\n",
      "payrollnumber Nulls 0\n",
      "regulargrosspaid Nulls 0\n",
      "regularhours Nulls 0\n",
      "titlecode Nulls 0\n",
      "titledescription Nulls 0\n",
      "totalotherpay Nulls 0\n",
      "totalotpaid Nulls 0\n",
      "worklocationborough Nulls 0\n"
     ]
    }
   ],
   "source": [
    "#Check and count for null values\n",
    "for column in mergedpayroll_df.columns:\n",
    "    print(column, 'Nulls', mergedpayroll_df.filter(mergedpayroll_df[column].isNull()).count())"
   ]
  },
  {
   "cell_type": "code",
   "execution_count": 19,
   "metadata": {},
   "outputs": [],
   "source": [
    "#Filling the null values\n",
    "mergedpayroll_df = mergedpayroll_df.fillna(\n",
    "    {\"agencycode\": 0, \n",
    "     \"agencyid\": 0\n",
    "    })"
   ]
  },
  {
   "cell_type": "code",
   "execution_count": 20,
   "metadata": {},
   "outputs": [
    {
     "name": "stdout",
     "output_type": "stream",
     "text": [
      "agencycode Nulls 0\n",
      "agencyid Nulls 0\n",
      "agencyname Nulls 0\n",
      "agencystartdate Nulls 0\n",
      "basesalary Nulls 0\n",
      "employeeid Nulls 0\n",
      "firstname Nulls 0\n",
      "fiscalyear Nulls 0\n",
      "lastname Nulls 0\n",
      "leavestatusasofjune30 Nulls 0\n",
      "othours Nulls 0\n",
      "paybasis Nulls 0\n",
      "payrollnumber Nulls 0\n",
      "regulargrosspaid Nulls 0\n",
      "regularhours Nulls 0\n",
      "titlecode Nulls 0\n",
      "titledescription Nulls 0\n",
      "totalotherpay Nulls 0\n",
      "totalotpaid Nulls 0\n",
      "worklocationborough Nulls 0\n"
     ]
    }
   ],
   "source": [
    "#confirming no null values\n",
    "for column in mergedpayroll_df.columns:\n",
    "    print(column, 'Nulls', mergedpayroll_df.filter(mergedpayroll_df[column].isNull()).count())"
   ]
  },
  {
   "cell_type": "code",
   "execution_count": 21,
   "metadata": {},
   "outputs": [],
   "source": [
    "#checking and removing duplicate values\n",
    "mergedpayroll_df = mergedpayroll_df.dropDuplicates()\n"
   ]
  },
  {
   "cell_type": "code",
   "execution_count": 22,
   "metadata": {},
   "outputs": [
    {
     "name": "stdout",
     "output_type": "stream",
     "text": [
      "root\n",
      " |-- agencycode: integer (nullable = false)\n",
      " |-- agencyid: integer (nullable = false)\n",
      " |-- agencyname: string (nullable = true)\n",
      " |-- agencystartdate: date (nullable = true)\n",
      " |-- basesalary: integer (nullable = true)\n",
      " |-- employeeid: integer (nullable = true)\n",
      " |-- firstname: string (nullable = true)\n",
      " |-- fiscalyear: integer (nullable = true)\n",
      " |-- lastname: string (nullable = true)\n",
      " |-- leavestatusasofjune30: string (nullable = true)\n",
      " |-- othours: double (nullable = true)\n",
      " |-- paybasis: string (nullable = true)\n",
      " |-- payrollnumber: integer (nullable = true)\n",
      " |-- regulargrosspaid: double (nullable = true)\n",
      " |-- regularhours: double (nullable = true)\n",
      " |-- titlecode: integer (nullable = true)\n",
      " |-- titledescription: string (nullable = true)\n",
      " |-- totalotherpay: double (nullable = true)\n",
      " |-- totalotpaid: double (nullable = true)\n",
      " |-- worklocationborough: string (nullable = true)\n",
      "\n"
     ]
    }
   ],
   "source": [
    "# Convert date columns to proper format (replace 'date_column' with actual column)\n",
    "mergedpayroll_df = mergedpayroll_df.withColumn(\"agencystartdate\", to_date(col(\"agencystartdate\"), \"MM/dd/yyyy\"))\n",
    "\n",
    "#convert columns to interger from strings\n",
    "mergedpayroll_df = mergedpayroll_df.withColumn(\"basesalary\", col(\"basesalary\").cast(\"int\"))\n",
    "mergedpayroll_df = mergedpayroll_df.withColumn(\"agencycode\", col(\"agencycode\").cast(\"int\"))\n",
    "mergedpayroll_df = mergedpayroll_df.withColumn(\"agencyid\", col(\"agencyid\").cast(\"int\"))\n",
    "mergedpayroll_df = mergedpayroll_df.withColumn(\"employeeid\", col(\"employeeid\").cast(\"int\"))\n",
    "\n",
    "from pyspark.sql.functions import col\n",
    "\n",
    "# Convert string columns to numeric types\n",
    "mergedpayroll_df = (\n",
    "    mergedpayroll_df\n",
    "    .withColumn(\"fiscalyear\", col(\"fiscalyear\").cast(\"int\"))\n",
    "    .withColumn(\"othours\", col(\"othours\").cast(\"double\"))\n",
    "    .withColumn(\"payrollnumber\", col(\"payrollnumber\").cast(\"int\"))\n",
    "    .withColumn(\"regulargrosspaid\", col(\"regulargrosspaid\").cast(\"double\"))\n",
    "    .withColumn(\"regularhours\", col(\"regularhours\").cast(\"double\"))\n",
    "    .withColumn(\"titlecode\", col(\"titlecode\").cast(\"int\"))\n",
    "    .withColumn(\"totalotherpay\", col(\"totalotherpay\").cast(\"double\"))\n",
    "    .withColumn(\"totalotpaid\", col(\"totalotpaid\").cast(\"double\"))\n",
    ")\n",
    "\n",
    "# Show schema after changes\n",
    "mergedpayroll_df.printSchema()"
   ]
  },
  {
   "cell_type": "code",
   "execution_count": 23,
   "metadata": {},
   "outputs": [
    {
     "name": "stdout",
     "output_type": "stream",
     "text": [
      "+----------+--------+--------------------+---------------+----------+----------+---------+----------+---------+---------------------+-------+---------+-------------+----------------+------------+---------+--------------------+-------------+-----------+-------------------+\n",
      "|agencycode|agencyid|          agencyname|agencystartdate|basesalary|employeeid|firstname|fiscalyear| lastname|leavestatusasofjune30|othours| paybasis|payrollnumber|regulargrosspaid|regularhours|titlecode|    titledescription|totalotherpay|totalotpaid|worklocationborough|\n",
      "+----------+--------+--------------------+---------------+----------+----------+---------+----------+---------+---------------------+-------+---------+-------------+----------------+------------+---------+--------------------+-------------+-----------+-------------------+\n",
      "|         0|    2120|OFFICE OF EMERGEN...|     2013-09-16|     86005|    149612| JONATHAN|      2020|    ROTTA|               ACTIVE|    0.0|per Annum|           17|        84698.21|      1820.0|    40447|EMERGENCY PREPARE...|          0.0|        0.0|           BROOKLYN|\n",
      "|         0|    2120|OFFICE OF EMERGEN...|     2015-04-06|     73049|    123132|   JUSTIN|      2020|  BENNETT|               ACTIVE| 175.25|per Annum|           17|        71938.89|      1820.0|    40448|EMERGENCY PREPARE...|        120.1|    8786.47|           BROOKLYN|\n",
      "|         0|    2120|OFFICE OF EMERGEN...|     2020-04-13|     75197|    176308|  ANTONIO|      2020|  DIMARCO|               ACTIVE|  204.5|per Annum|           17|        14381.95|       350.0|    40448|EMERGENCY PREPARE...|         14.4|   10917.33|           BROOKLYN|\n",
      "|         0|    2120|OFFICE OF EMERGEN...|     2016-01-04|     83791|    141167|     TODD|      2020|CALLENDER|               ACTIVE|    0.0|per Annum|           17|        82517.67|      1820.0|    40447|EMERGENCY PREPARE...|          0.0|        0.0|           BROOKLYN|\n",
      "|         0|    2120|OFFICE OF EMERGEN...|     2017-05-15|     86005|     58036|   AMANDA|      2020| KRAWCZYK|               ACTIVE|    0.0|per Annum|           17|        83976.54|      1820.0|    40447|EMERGENCY PREPARE...|          0.0|        0.0|           BROOKLYN|\n",
      "+----------+--------+--------------------+---------------+----------+----------+---------+----------+---------+---------------------+-------+---------+-------------+----------------+------------+---------+--------------------+-------------+-----------+-------------------+\n",
      "only showing top 5 rows\n",
      "\n"
     ]
    }
   ],
   "source": [
    "spark.conf.set(\"spark.sql.legacy.timeParserPolicy\", \"LEGACY\")\n",
    "\n",
    "\n",
    "mergedpayroll_df.show(5)"
   ]
  },
  {
   "cell_type": "code",
   "execution_count": 24,
   "metadata": {},
   "outputs": [
    {
     "name": "stdout",
     "output_type": "stream",
     "text": [
      "root\n",
      " |-- agencycode: integer (nullable = false)\n",
      " |-- agencyid: integer (nullable = false)\n",
      " |-- agencyname: string (nullable = true)\n",
      " |-- agencystartdate: date (nullable = true)\n",
      " |-- basesalary: integer (nullable = true)\n",
      " |-- employeeid: integer (nullable = true)\n",
      " |-- firstname: string (nullable = true)\n",
      " |-- fiscalyear: integer (nullable = true)\n",
      " |-- lastname: string (nullable = true)\n",
      " |-- leavestatusasofjune30: string (nullable = true)\n",
      " |-- othours: double (nullable = true)\n",
      " |-- paybasis: string (nullable = true)\n",
      " |-- payrollnumber: integer (nullable = true)\n",
      " |-- regulargrosspaid: double (nullable = true)\n",
      " |-- regularhours: double (nullable = true)\n",
      " |-- titlecode: integer (nullable = true)\n",
      " |-- titledescription: string (nullable = true)\n",
      " |-- totalotherpay: double (nullable = true)\n",
      " |-- totalotpaid: double (nullable = true)\n",
      " |-- worklocationborough: string (nullable = true)\n",
      "\n"
     ]
    }
   ],
   "source": [
    "mergedpayroll_df.printSchema()"
   ]
  },
  {
   "cell_type": "code",
   "execution_count": 25,
   "metadata": {},
   "outputs": [
    {
     "name": "stdout",
     "output_type": "stream",
     "text": [
      "+----------+--------+--------------------+---------------+----------+----------+---------+----------+---------+---------------------+-------+---------+-------------+----------------+------------+---------+--------------------+-------------+-----------+-------------------+\n",
      "|agencycode|agencyid|          agencyname|agencystartdate|basesalary|employeeid|firstname|fiscalyear| lastname|leavestatusasofjune30|othours| paybasis|payrollnumber|regulargrosspaid|regularhours|titlecode|    titledescription|totalotherpay|totalotpaid|worklocationborough|\n",
      "+----------+--------+--------------------+---------------+----------+----------+---------+----------+---------+---------------------+-------+---------+-------------+----------------+------------+---------+--------------------+-------------+-----------+-------------------+\n",
      "|         0|    2120|OFFICE OF EMERGEN...|     2013-09-16|     86005|    149612| JONATHAN|      2020|    ROTTA|               ACTIVE|    0.0|per Annum|           17|        84698.21|      1820.0|    40447|EMERGENCY PREPARE...|          0.0|        0.0|           BROOKLYN|\n",
      "|         0|    2120|OFFICE OF EMERGEN...|     2015-04-06|     73049|    123132|   JUSTIN|      2020|  BENNETT|               ACTIVE| 175.25|per Annum|           17|        71938.89|      1820.0|    40448|EMERGENCY PREPARE...|        120.1|    8786.47|           BROOKLYN|\n",
      "|         0|    2120|OFFICE OF EMERGEN...|     2020-04-13|     75197|    176308|  ANTONIO|      2020|  DIMARCO|               ACTIVE|  204.5|per Annum|           17|        14381.95|       350.0|    40448|EMERGENCY PREPARE...|         14.4|   10917.33|           BROOKLYN|\n",
      "|         0|    2120|OFFICE OF EMERGEN...|     2016-01-04|     83791|    141167|     TODD|      2020|CALLENDER|               ACTIVE|    0.0|per Annum|           17|        82517.67|      1820.0|    40447|EMERGENCY PREPARE...|          0.0|        0.0|           BROOKLYN|\n",
      "|         0|    2120|OFFICE OF EMERGEN...|     2017-05-15|     86005|     58036|   AMANDA|      2020| KRAWCZYK|               ACTIVE|    0.0|per Annum|           17|        83976.54|      1820.0|    40447|EMERGENCY PREPARE...|          0.0|        0.0|           BROOKLYN|\n",
      "+----------+--------+--------------------+---------------+----------+----------+---------+----------+---------+---------------------+-------+---------+-------------+----------------+------------+---------+--------------------+-------------+-----------+-------------------+\n",
      "only showing top 5 rows\n",
      "\n"
     ]
    }
   ],
   "source": [
    "#datetime parser\n",
    "spark.conf.set(\"spark.sql.legacy.timeParserPolicy\", \"LEGACY\")\n",
    "\n",
    "mergedpayroll_df.show(5)"
   ]
  },
  {
   "cell_type": "code",
   "execution_count": 26,
   "metadata": {},
   "outputs": [
    {
     "data": {
      "text/plain": [
       "['agencycode',\n",
       " 'agencyid',\n",
       " 'agencyname',\n",
       " 'agencystartdate',\n",
       " 'basesalary',\n",
       " 'employeeid',\n",
       " 'firstname',\n",
       " 'fiscalyear',\n",
       " 'lastname',\n",
       " 'leavestatusasofjune30',\n",
       " 'othours',\n",
       " 'paybasis',\n",
       " 'payrollnumber',\n",
       " 'regulargrosspaid',\n",
       " 'regularhours',\n",
       " 'titlecode',\n",
       " 'titledescription',\n",
       " 'totalotherpay',\n",
       " 'totalotpaid',\n",
       " 'worklocationborough']"
      ]
     },
     "execution_count": 26,
     "metadata": {},
     "output_type": "execute_result"
    }
   ],
   "source": [
    "mergedpayroll_df.columns"
   ]
  },
  {
   "cell_type": "code",
   "execution_count": 27,
   "metadata": {},
   "outputs": [
    {
     "name": "stdout",
     "output_type": "stream",
     "text": [
      "+----------+--------+--------------------+---------------+\n",
      "|agencycode|agencyid|          agencyname|agencystartdate|\n",
      "+----------+--------+--------------------+---------------+\n",
      "|         0|    2120|OFFICE OF EMERGEN...|     2013-09-16|\n",
      "|         0|    2120|OFFICE OF EMERGEN...|     2015-04-06|\n",
      "+----------+--------+--------------------+---------------+\n",
      "only showing top 2 rows\n",
      "\n",
      "+----------+---------+--------+\n",
      "|employeeid|firstname|lastname|\n",
      "+----------+---------+--------+\n",
      "|    149612| JONATHAN|   ROTTA|\n",
      "|    123132|   JUSTIN| BENNETT|\n",
      "+----------+---------+--------+\n",
      "only showing top 2 rows\n",
      "\n",
      "+---------+--------------------+\n",
      "|titlecode|    titledescription|\n",
      "+---------+--------------------+\n",
      "|    40447|EMERGENCY PREPARE...|\n",
      "|    40448|EMERGENCY PREPARE...|\n",
      "+---------+--------------------+\n",
      "only showing top 2 rows\n",
      "\n"
     ]
    }
   ],
   "source": [
    "#agencytable\n",
    "agency_df = mergedpayroll_df.select('agencycode','agencyid','agencyname','agencystartdate')\n",
    "agency_df.show(2)\n",
    "\n",
    "Emp_df = mergedpayroll_df.select('employeeid','firstname','lastname')\n",
    "Emp_df.show(2)\n",
    "\n",
    "Title_df = mergedpayroll_df.select('titlecode','titledescription')\n",
    "Title_df.show(2)"
   ]
  },
  {
   "cell_type": "code",
   "execution_count": 28,
   "metadata": {},
   "outputs": [
    {
     "name": "stdout",
     "output_type": "stream",
     "text": [
      "+--------+---------+--------------------+\n",
      "|title_id|titlecode|    titledescription|\n",
      "+--------+---------+--------------------+\n",
      "|       0|    40447|EMERGENCY PREPARE...|\n",
      "|       1|    40448|EMERGENCY PREPARE...|\n",
      "|       2|    40448|EMERGENCY PREPARE...|\n",
      "|       3|    40447|EMERGENCY PREPARE...|\n",
      "+--------+---------+--------------------+\n",
      "only showing top 4 rows\n",
      "\n"
     ]
    }
   ],
   "source": [
    "#adding the title_id column\n",
    "from pyspark.sql.functions import monotonically_increasing_id\n",
    "\n",
    "Title_df = Title_df.withColumn('title_id', monotonically_increasing_id())\n",
    "\n",
    "#rearrange the columns\n",
    "Title_df = Title_df.select('title_id','titlecode','titledescription')\n",
    "\n",
    "Title_df.show(4)"
   ]
  },
  {
   "cell_type": "code",
   "execution_count": 29,
   "metadata": {},
   "outputs": [
    {
     "name": "stdout",
     "output_type": "stream",
     "text": [
      "+--------+----------+--------------------+---------------+\n",
      "|agencyid|agencycode|          agencyname|agencystartdate|\n",
      "+--------+----------+--------------------+---------------+\n",
      "|    2120|         0|OFFICE OF EMERGEN...|     2013-09-16|\n",
      "|    2120|         0|OFFICE OF EMERGEN...|     2015-04-06|\n",
      "+--------+----------+--------------------+---------------+\n",
      "only showing top 2 rows\n",
      "\n",
      "+----------+---------+--------+\n",
      "|employeeid|firstname|lastname|\n",
      "+----------+---------+--------+\n",
      "|    149612| JONATHAN|   ROTTA|\n",
      "|    123132|   JUSTIN| BENNETT|\n",
      "+----------+---------+--------+\n",
      "only showing top 2 rows\n",
      "\n",
      "+--------+---------+--------------------+\n",
      "|title_id|titlecode|    titledescription|\n",
      "+--------+---------+--------------------+\n",
      "|       0|    40447|EMERGENCY PREPARE...|\n",
      "|       1|    40448|EMERGENCY PREPARE...|\n",
      "+--------+---------+--------------------+\n",
      "only showing top 2 rows\n",
      "\n"
     ]
    }
   ],
   "source": [
    "#ensure all tables are well ordered\n",
    "agency_df = agency_df.select('agencyid','agencycode','agencyname','agencystartdate')\n",
    "agency_df.show(2)\n",
    "\n",
    "Emp_df.show(2)\n",
    "\n",
    "Title_df.show(2)\n"
   ]
  },
  {
   "cell_type": "code",
   "execution_count": 32,
   "metadata": {},
   "outputs": [],
   "source": [
    "#fact table\n",
    "facts_table = mergedpayroll_df.join(agency_df,['agencyid','agencycode','agencyname','agencystartdate'], 'left')\\\n",
    "                             .join(Emp_df,['employeeid','firstname','lastname'], 'left')\\\n",
    "                             .join(Title_df,['titlecode','titledescription'])\\\n",
    "                             .select('agencyid','employeeid','title_id','basesalary','fiscalyear','leavestatusasofjune30', 'othours', 'paybasis', 'payrollnumber',\\\n",
    "                                      'regulargrosspaid','regularhours','totalotherpay','totalotpaid','worklocationborough')\n"
   ]
  },
  {
   "cell_type": "code",
   "execution_count": 33,
   "metadata": {},
   "outputs": [
    {
     "name": "stdout",
     "output_type": "stream",
     "text": [
      "+--------+----------+--------+----------+----------+---------------------+-------+---------+-------------+----------------+------------+-------------+-----------+-------------------+\n",
      "|agencyid|employeeid|title_id|basesalary|fiscalyear|leavestatusasofjune30|othours| paybasis|payrollnumber|regulargrosspaid|regularhours|totalotherpay|totalotpaid|worklocationborough|\n",
      "+--------+----------+--------+----------+----------+---------------------+-------+---------+-------------+----------------+------------+-------------+-----------+-------------------+\n",
      "|    2120|    149612|      92|     86005|      2020|               ACTIVE|    0.0|per Annum|           17|        84698.21|      1820.0|          0.0|        0.0|           BROOKLYN|\n",
      "|    2120|    149612|      89|     86005|      2020|               ACTIVE|    0.0|per Annum|           17|        84698.21|      1820.0|          0.0|        0.0|           BROOKLYN|\n",
      "|    2120|    149612|      86|     86005|      2020|               ACTIVE|    0.0|per Annum|           17|        84698.21|      1820.0|          0.0|        0.0|           BROOKLYN|\n",
      "+--------+----------+--------+----------+----------+---------------------+-------+---------+-------------+----------------+------------+-------------+-----------+-------------------+\n",
      "only showing top 3 rows\n",
      "\n"
     ]
    }
   ],
   "source": [
    "facts_table.show(3)"
   ]
  },
  {
   "cell_type": "code",
   "execution_count": null,
   "metadata": {},
   "outputs": [],
   "source": [
    "#output the transformed data to parquet\n",
    "agency_df.write.mode('overwrite').parquet(r'dataset/agency')\n",
    "Emp_df.write.mode('overwrite').parquet(r'dataset/employee')\n",
    "Title_df.write.mode('overwrite').parquet(r'dataset/titles')"
   ]
  },
  {
   "cell_type": "code",
   "execution_count": null,
   "metadata": {},
   "outputs": [],
   "source": [
    "#output transformed data to csv\n",
    "agency_df.write.mode('overwrite').option('header', 'true').csv(r'dataset/csv/agency')\n",
    "Emp_df.write.mode('overwrite').option('header', 'true').csv(r'dataset/csv/employee')\n",
    "Title_df.write.mode('overwrite').option('header', 'true').csv(r'dataset/csv/titles')"
   ]
  },
  {
   "cell_type": "code",
   "execution_count": null,
   "metadata": {},
   "outputs": [],
   "source": []
  },
  {
   "cell_type": "code",
   "execution_count": null,
   "metadata": {},
   "outputs": [],
   "source": []
  },
  {
   "cell_type": "code",
   "execution_count": null,
   "metadata": {},
   "outputs": [],
   "source": []
  }
 ],
 "metadata": {
  "kernelspec": {
   "display_name": "nycpayrollenv",
   "language": "python",
   "name": "python3"
  },
  "language_info": {
   "codemirror_mode": {
    "name": "ipython",
    "version": 3
   },
   "file_extension": ".py",
   "mimetype": "text/x-python",
   "name": "python",
   "nbconvert_exporter": "python",
   "pygments_lexer": "ipython3",
   "version": "3.9.21"
  }
 },
 "nbformat": 4,
 "nbformat_minor": 2
}
