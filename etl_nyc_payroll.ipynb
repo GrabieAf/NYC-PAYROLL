{
 "cells": [
  {
   "cell_type": "markdown",
   "metadata": {},
   "source": [
    "#### Importing the neccessary libraries and dependencies"
   ]
  },
  {
   "cell_type": "code",
   "execution_count": 8,
   "metadata": {},
   "outputs": [
    {
     "name": "stdout",
     "output_type": "stream",
     "text": [
      "Collecting pandas\n",
      "  Using cached pandas-2.2.3-cp39-cp39-win_amd64.whl.metadata (19 kB)\n",
      "Collecting numpy>=1.22.4 (from pandas)\n",
      "  Using cached numpy-2.0.2-cp39-cp39-win_amd64.whl.metadata (59 kB)\n",
      "Requirement already satisfied: python-dateutil>=2.8.2 in c:\\users\\abiol\\.conda\\envs\\nycpayrollenv\\lib\\site-packages (from pandas) (2.9.0.post0)\n",
      "Collecting pytz>=2020.1 (from pandas)\n",
      "  Using cached pytz-2025.1-py2.py3-none-any.whl.metadata (22 kB)\n",
      "Collecting tzdata>=2022.7 (from pandas)\n",
      "  Using cached tzdata-2025.1-py2.py3-none-any.whl.metadata (1.4 kB)\n",
      "Requirement already satisfied: six>=1.5 in c:\\users\\abiol\\.conda\\envs\\nycpayrollenv\\lib\\site-packages (from python-dateutil>=2.8.2->pandas) (1.17.0)\n",
      "Using cached pandas-2.2.3-cp39-cp39-win_amd64.whl (11.6 MB)\n",
      "Using cached numpy-2.0.2-cp39-cp39-win_amd64.whl (15.9 MB)\n",
      "Using cached pytz-2025.1-py2.py3-none-any.whl (507 kB)\n",
      "Using cached tzdata-2025.1-py2.py3-none-any.whl (346 kB)\n",
      "Installing collected packages: pytz, tzdata, numpy, pandas\n",
      "Successfully installed numpy-2.0.2 pandas-2.2.3 pytz-2025.1 tzdata-2025.1\n"
     ]
    }
   ],
   "source": [
    "!pip install pandas"
   ]
  },
  {
   "cell_type": "code",
   "execution_count": 9,
   "metadata": {},
   "outputs": [],
   "source": [
    "#Import libraries\n",
    "import pandas as pd \n",
    "from sqlalchemy import create_engine\n",
    "\n",
    "# Import PySpark libraries\n",
    "from pyspark.sql import SparkSession\n",
    "from pyspark.sql.functions import col, trim, to_date\n",
    "\n",
    "# Initialize a Spark session\n",
    "spark = SparkSession.builder \\\n",
    "    .appName(\"NYC Payroll ETL\") \\\n",
    "    .getOrCreate()\n"
   ]
  },
  {
   "cell_type": "code",
   "execution_count": 10,
   "metadata": {},
   "outputs": [
    {
     "data": {
      "text/html": [
       "\n",
       "            <div>\n",
       "                <p><b>SparkSession - in-memory</b></p>\n",
       "                \n",
       "        <div>\n",
       "            <p><b>SparkContext</b></p>\n",
       "\n",
       "            <p><a href=\"http://192.168.1.136:4040\">Spark UI</a></p>\n",
       "\n",
       "            <dl>\n",
       "              <dt>Version</dt>\n",
       "                <dd><code>v3.5.3</code></dd>\n",
       "              <dt>Master</dt>\n",
       "                <dd><code>local[*]</code></dd>\n",
       "              <dt>AppName</dt>\n",
       "                <dd><code>NYC Payroll ETL</code></dd>\n",
       "            </dl>\n",
       "        </div>\n",
       "        \n",
       "            </div>\n",
       "        "
      ],
      "text/plain": [
       "<pyspark.sql.session.SparkSession at 0x1e1baef1220>"
      ]
     },
     "execution_count": 10,
     "metadata": {},
     "output_type": "execute_result"
    }
   ],
   "source": [
    "spark"
   ]
  },
  {
   "cell_type": "markdown",
   "metadata": {},
   "source": [
    "### Data Extraction"
   ]
  },
  {
   "cell_type": "code",
   "execution_count": null,
   "metadata": {},
   "outputs": [],
   "source": [
    "#extract and convert the cvs into dataframe using spark\n",
    "AgencyMaster_df = spark.read.csv(r'C:\\Users\\abiol\\OneDrive\\Desktop\\10ANALYTICS DATA ENGINEERING\\NYC PAYROLL PROJECT\\NYC-PAYROLL\\datasets\\AgencyMaster.csv', header=True, inferSchema=True)\n",
    "EmpMaster_df = spark.read.csv(r'datasets\\EmpMaster.csv', header=True, inferSchema=True)\n",
    "TitleMaster_df = spark.read.csv(r'datasets\\TitleMaster.csv', header=True, inferSchema=True)\n"
   ]
  },
  {
   "cell_type": "code",
   "execution_count": null,
   "metadata": {},
   "outputs": [
    {
     "name": "stdout",
     "output_type": "stream",
     "text": [
      "+--------+--------------------+\n",
      "|AgencyID|          AgencyName|\n",
      "+--------+--------------------+\n",
      "|    2001|ADMIN FOR CHILDRE...|\n",
      "|    2002|ADMIN TRIALS AND ...|\n",
      "|    2003| BOARD OF CORRECTION|\n",
      "|    2004|   BOARD OF ELECTION|\n",
      "|    2005|BOARD OF ELECTION...|\n",
      "+--------+--------------------+\n",
      "only showing top 5 rows\n",
      "\n",
      "+----------+--------+---------+\n",
      "|EmployeeID|LastName|FirstName|\n",
      "+----------+--------+---------+\n",
      "|    100001|  AACHEN|    DAVID|\n",
      "|    100002|  AACHEN|   MONICA|\n",
      "|    100003|  AADAMS|  LAMMELL|\n",
      "|    100004|   AADIL|     IRIS|\n",
      "|    100005|  AALAAM|     AMIR|\n",
      "+----------+--------+---------+\n",
      "only showing top 5 rows\n",
      "\n",
      "+---------+--------------------+\n",
      "|TitleCode|    TitleDescription|\n",
      "+---------+--------------------+\n",
      "|    40001|*ADM SCHOOL SECUR...|\n",
      "|    40002|*ADMIN SCHL SECUR...|\n",
      "|    40003|    *AGENCY ATTORNEY|\n",
      "|    40004|*ASSISTANT ADVOCA...|\n",
      "|    40005|*ASSOCIATE EDUCAT...|\n",
      "+---------+--------------------+\n",
      "only showing top 5 rows\n",
      "\n"
     ]
    }
   ],
   "source": [
    "AgencyMaster_df.show(5)\n",
    "EmpMaster_df.show(5)\n",
    "TitleMaster_df.show(5)\n"
   ]
  },
  {
   "cell_type": "code",
   "execution_count": null,
   "metadata": {},
   "outputs": [
    {
     "name": "stdout",
     "output_type": "stream",
     "text": [
      "root\n",
      " |-- AgencyID: integer (nullable = true)\n",
      " |-- AgencyName: string (nullable = true)\n",
      "\n",
      "root\n",
      " |-- EmployeeID: integer (nullable = true)\n",
      " |-- LastName: string (nullable = true)\n",
      " |-- FirstName: string (nullable = true)\n",
      "\n",
      "root\n",
      " |-- TitleCode: integer (nullable = true)\n",
      " |-- TitleDescription: string (nullable = true)\n",
      "\n"
     ]
    }
   ],
   "source": [
    "#checking for the right datatype for each column in various dataframes\n",
    "AgencyMaster_df.printSchema()\n",
    "EmpMaster_df.printSchema()\n",
    "TitleMaster_df.printSchema()"
   ]
  },
  {
   "cell_type": "code",
   "execution_count": null,
   "metadata": {},
   "outputs": [
    {
     "name": "stdout",
     "output_type": "stream",
     "text": [
      "+--------+----------+\n",
      "|AgencyID|AgencyName|\n",
      "+--------+----------+\n",
      "|       0|         0|\n",
      "+--------+----------+\n",
      "\n"
     ]
    }
   ],
   "source": [
    "#Checking for missing values in the dataframe\n",
    "from pyspark.sql.functions import col, count, when\n",
    "\n",
    "AgencyMaster_df.select(\n",
    "    [count(when(col(c).isNull(), c)).alias(c) for c in AgencyMaster_df.columns]\n",
    ").show()\n"
   ]
  },
  {
   "cell_type": "code",
   "execution_count": null,
   "metadata": {},
   "outputs": [
    {
     "name": "stdout",
     "output_type": "stream",
     "text": [
      "+----------+--------+---------+\n",
      "|EmployeeID|LastName|FirstName|\n",
      "+----------+--------+---------+\n",
      "|         0|       0|        0|\n",
      "+----------+--------+---------+\n",
      "\n"
     ]
    }
   ],
   "source": [
    "#Checking for missing values in the dataframe\n",
    "EmpMaster_df.select(\n",
    "    [count(when(col(c).isNull(), c)).alias(c) for c in EmpMaster_df.columns]\n",
    ").show()"
   ]
  },
  {
   "cell_type": "code",
   "execution_count": null,
   "metadata": {},
   "outputs": [
    {
     "name": "stdout",
     "output_type": "stream",
     "text": [
      "+---------+----------------+\n",
      "|TitleCode|TitleDescription|\n",
      "+---------+----------------+\n",
      "|        0|               1|\n",
      "+---------+----------------+\n",
      "\n"
     ]
    }
   ],
   "source": [
    "#Checking for missing values in the dataframe\n",
    "TitleMaster_df.select(\n",
    "    [count(when(col(c).isNull(), c)).alias(c) for c in TitleMaster_df.columns]\n",
    ").show()"
   ]
  },
  {
   "cell_type": "code",
   "execution_count": null,
   "metadata": {},
   "outputs": [],
   "source": [
    "#dropping the column with missing values\n",
    "TitleMaster_df = TitleMaster_df.dropna(subset=[\"TitleDescription\"])\n"
   ]
  },
  {
   "cell_type": "code",
   "execution_count": 34,
   "metadata": {},
   "outputs": [
    {
     "name": "stdout",
     "output_type": "stream",
     "text": [
      "+---------+----------------+\n",
      "|TitleCode|TitleDescription|\n",
      "+---------+----------------+\n",
      "|        0|               0|\n",
      "+---------+----------------+\n",
      "\n"
     ]
    }
   ],
   "source": [
    "TitleMaster_df.select(\n",
    "    [count(when(col(c).isNull(), c)).alias(c) for c in TitleMaster_df.columns]\n",
    ").show()"
   ]
  },
  {
   "cell_type": "code",
   "execution_count": null,
   "metadata": {},
   "outputs": [],
   "source": []
  },
  {
   "cell_type": "code",
   "execution_count": 21,
   "metadata": {},
   "outputs": [],
   "source": [
    "#extract and convert the cvs into dataframe using spark\n",
    "nycpayroll2020_df = spark.read.csv(r'datasets\\nycpayroll_2020.csv', header=True, inferSchema=True)\n",
    "nycpayroll2021_df = spark.read.csv(r'datasets\\nycpayroll_2021.csv', header=True, inferSchema=True)"
   ]
  },
  {
   "cell_type": "code",
   "execution_count": 22,
   "metadata": {},
   "outputs": [
    {
     "name": "stdout",
     "output_type": "stream",
     "text": [
      "+----------+-------------+--------+--------------------+----------+----------+---------+---------------+-------------------+---------+--------------------+---------------------+----------+---------+------------+----------------+-------+-----------+-------------+\n",
      "|FiscalYear|PayrollNumber|AgencyID|          AgencyName|EmployeeID|  LastName|FirstName|AgencyStartDate|WorkLocationBorough|TitleCode|    TitleDescription|LeaveStatusasofJune30|BaseSalary| PayBasis|RegularHours|RegularGrossPaid|OTHours|TotalOTPaid|TotalOtherPay|\n",
      "+----------+-------------+--------+--------------------+----------+----------+---------+---------------+-------------------+---------+--------------------+---------------------+----------+---------+------------+----------------+-------+-----------+-------------+\n",
      "|      2020|           17|    2120|OFFICE OF EMERGEN...|     10001|    GEAGER| VERONICA|      9/12/2016|           BROOKLYN|    40447|EMERGENCY PREPARE...|               ACTIVE|   86005.0|per Annum|      1820.0|        84698.21|    0.0|        0.0|          0.0|\n",
      "|      2020|           17|    2120|OFFICE OF EMERGEN...|    149612|     ROTTA| JONATHAN|      9/16/2013|           BROOKLYN|    40447|EMERGENCY PREPARE...|               ACTIVE|   86005.0|per Annum|      1820.0|        84698.21|    0.0|        0.0|          0.0|\n",
      "|      2020|           17|    2120|OFFICE OF EMERGEN...|    206583| WILSON II|   ROBERT|      4/30/2018|           BROOKLYN|    40447|EMERGENCY PREPARE...|               ACTIVE|   86005.0|per Annum|      1820.0|        84698.21|    0.0|        0.0|          0.0|\n",
      "|      2020|           17|    2120|OFFICE OF EMERGEN...|    199874|WASHINGTON|   MORIAH|      3/18/2019|           BROOKLYN|    40447|EMERGENCY PREPARE...|               ACTIVE|   86005.0|per Annum|      1820.0|        87900.95|    0.0|        0.0|     -3202.74|\n",
      "|      2020|           17|    2120|OFFICE OF EMERGEN...|     58036|  KRAWCZYK|   AMANDA|      5/15/2017|           BROOKLYN|    40447|EMERGENCY PREPARE...|               ACTIVE|   86005.0|per Annum|      1820.0|        83976.54|    0.0|        0.0|          0.0|\n",
      "+----------+-------------+--------+--------------------+----------+----------+---------+---------------+-------------------+---------+--------------------+---------------------+----------+---------+------------+----------------+-------+-----------+-------------+\n",
      "only showing top 5 rows\n",
      "\n",
      "+----------+-------------+----------+--------------------+----------+-----------+---------+---------------+-------------------+---------+-------------------+---------------------+----------+---------+------------+----------------+-------+-----------+-------------+\n",
      "|FiscalYear|PayrollNumber|AgencyCode|          AgencyName|EmployeeID|   LastName|FirstName|AgencyStartDate|WorkLocationBorough|TitleCode|   TitleDescription|LeaveStatusasofJune30|BaseSalary| PayBasis|RegularHours|RegularGrossPaid|OTHours|TotalOTPaid|TotalOtherPay|\n",
      "+----------+-------------+----------+--------------------+----------+-----------+---------+---------------+-------------------+---------+-------------------+---------------------+----------+---------+------------+----------------+-------+-----------+-------------+\n",
      "|      2021|          996|      2153|NYC HOUSING AUTHO...|    209184|MUSTACIUOLO|     VITO|      2/26/2018|          MANHATTAN|    40475| EXECUTIVE DIRECTOR|               ACTIVE|  258000.0|per Annum|        1820|        257260.3|    0.0|        0.0|     258000.0|\n",
      "|      2021|          996|      2153|NYC HOUSING AUTHO...|    302330|       RUSS|  GREGORY|      8/12/2019|          MANHATTAN|    41143|              CHAIR|               ACTIVE|  414707.0|per Annum|        1820|       413518.05|    0.0|        0.0|        500.0|\n",
      "|      2021|          816|      2129|DEPT OF HEALTH/ME...|     49788|   HALLAHAN|  PATRICK|      2/26/2018|           BROOKLYN|    40782|STATIONARY ENGINEER|               ACTIVE|     508.8|  per Day|        2080|        132288.0|2115.25|  218628.18|     56616.07|\n",
      "|      2021|          816|      2129|DEPT OF HEALTH/ME...|    251626|     PETTIT|  PATRICK|       8/2/2010|          MANHATTAN|    40782|STATIONARY ENGINEER|               ACTIVE|     508.8|  per Day|        2080|        132288.0|2152.75|  218694.96|     38611.82|\n",
      "|      2021|          816|      2129|DEPT OF HEALTH/ME...|    364376|   TELEHANY|  STEPHEN|      1/16/2007|             QUEENS|    40782|STATIONARY ENGINEER|               ACTIVE|     508.8|  per Day|        2080|        132288.0|1876.25|  192296.19|      51160.2|\n",
      "+----------+-------------+----------+--------------------+----------+-----------+---------+---------------+-------------------+---------+-------------------+---------------------+----------+---------+------------+----------------+-------+-----------+-------------+\n",
      "only showing top 5 rows\n",
      "\n"
     ]
    }
   ],
   "source": [
    "nycpayroll2020_df.show(5)\n",
    "nycpayroll2021_df.show(5)"
   ]
  },
  {
   "cell_type": "code",
   "execution_count": null,
   "metadata": {},
   "outputs": [],
   "source": []
  },
  {
   "cell_type": "code",
   "execution_count": null,
   "metadata": {},
   "outputs": [],
   "source": []
  },
  {
   "cell_type": "code",
   "execution_count": null,
   "metadata": {},
   "outputs": [],
   "source": []
  },
  {
   "cell_type": "code",
   "execution_count": null,
   "metadata": {},
   "outputs": [],
   "source": []
  },
  {
   "cell_type": "code",
   "execution_count": null,
   "metadata": {},
   "outputs": [],
   "source": []
  },
  {
   "cell_type": "code",
   "execution_count": null,
   "metadata": {},
   "outputs": [],
   "source": []
  }
 ],
 "metadata": {
  "kernelspec": {
   "display_name": "nycpayrollenv",
   "language": "python",
   "name": "python3"
  },
  "language_info": {
   "codemirror_mode": {
    "name": "ipython",
    "version": 3
   },
   "file_extension": ".py",
   "mimetype": "text/x-python",
   "name": "python",
   "nbconvert_exporter": "python",
   "pygments_lexer": "ipython3",
   "version": "3.9.21"
  }
 },
 "nbformat": 4,
 "nbformat_minor": 2
}
