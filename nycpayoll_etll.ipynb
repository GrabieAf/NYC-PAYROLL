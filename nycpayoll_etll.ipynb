{
 "cells": [
  {
   "cell_type": "code",
   "execution_count": 15,
   "metadata": {},
   "outputs": [],
   "source": [
    "#Import necessary libraries\n",
    "import pandas as pd\n",
    "import numpy as np"
   ]
  },
  {
   "cell_type": "markdown",
   "metadata": {},
   "source": [
    "#### Data Extraction"
   ]
  },
  {
   "cell_type": "code",
   "execution_count": 2,
   "metadata": {},
   "outputs": [],
   "source": [
    "nyc2020_df = pd.read_csv(r\"datasets\\nycpayroll_2020.csv\")\n",
    "nyc2021_df = pd.read_csv(r\"datasets\\nycpayroll_2021.csv\")"
   ]
  },
  {
   "cell_type": "code",
   "execution_count": 16,
   "metadata": {},
   "outputs": [
    {
     "name": "stdout",
     "output_type": "stream",
     "text": [
      "<class 'pandas.core.frame.DataFrame'>\n",
      "RangeIndex: 100 entries, 0 to 99\n",
      "Data columns (total 19 columns):\n",
      " #   Column                 Non-Null Count  Dtype  \n",
      "---  ------                 --------------  -----  \n",
      " 0   FiscalYear             100 non-null    int64  \n",
      " 1   PayrollNumber          100 non-null    int64  \n",
      " 2   AgencyID               100 non-null    int64  \n",
      " 3   AgencyName             100 non-null    object \n",
      " 4   EmployeeID             100 non-null    int64  \n",
      " 5   LastName               100 non-null    object \n",
      " 6   FirstName              100 non-null    object \n",
      " 7   AgencyStartDate        100 non-null    object \n",
      " 8   WorkLocationBorough    100 non-null    object \n",
      " 9   TitleCode              100 non-null    int64  \n",
      " 10  TitleDescription       100 non-null    object \n",
      " 11  LeaveStatusasofJune30  100 non-null    object \n",
      " 12  BaseSalary             100 non-null    float64\n",
      " 13  PayBasis               100 non-null    object \n",
      " 14  RegularHours           100 non-null    float64\n",
      " 15  RegularGrossPaid       100 non-null    float64\n",
      " 16  OTHours                100 non-null    float64\n",
      " 17  TotalOTPaid            100 non-null    float64\n",
      " 18  TotalOtherPay          100 non-null    float64\n",
      "dtypes: float64(6), int64(5), object(8)\n",
      "memory usage: 15.0+ KB\n"
     ]
    }
   ],
   "source": [
    "nyc2020_df.head(2)\n",
    "nyc2020_df.info()"
   ]
  },
  {
   "cell_type": "code",
   "execution_count": 17,
   "metadata": {},
   "outputs": [
    {
     "name": "stdout",
     "output_type": "stream",
     "text": [
      "<class 'pandas.core.frame.DataFrame'>\n",
      "RangeIndex: 101 entries, 0 to 100\n",
      "Data columns (total 19 columns):\n",
      " #   Column                 Non-Null Count  Dtype  \n",
      "---  ------                 --------------  -----  \n",
      " 0   FiscalYear             101 non-null    int64  \n",
      " 1   PayrollNumber          101 non-null    int64  \n",
      " 2   AgencyCode             101 non-null    int64  \n",
      " 3   AgencyName             101 non-null    object \n",
      " 4   EmployeeID             101 non-null    int64  \n",
      " 5   LastName               101 non-null    object \n",
      " 6   FirstName              101 non-null    object \n",
      " 7   AgencyStartDate        101 non-null    object \n",
      " 8   WorkLocationBorough    101 non-null    object \n",
      " 9   TitleCode              101 non-null    int64  \n",
      " 10  TitleDescription       101 non-null    object \n",
      " 11  LeaveStatusasofJune30  101 non-null    object \n",
      " 12  BaseSalary             101 non-null    float64\n",
      " 13  PayBasis               101 non-null    object \n",
      " 14  RegularHours           101 non-null    int64  \n",
      " 15  RegularGrossPaid       101 non-null    float64\n",
      " 16  OTHours                101 non-null    float64\n",
      " 17  TotalOTPaid            101 non-null    float64\n",
      " 18  TotalOtherPay          101 non-null    float64\n",
      "dtypes: float64(5), int64(6), object(8)\n",
      "memory usage: 15.1+ KB\n"
     ]
    }
   ],
   "source": [
    "nyc2021_df.head(3)\n",
    "nyc2021_df.info()"
   ]
  },
  {
   "cell_type": "code",
   "execution_count": 21,
   "metadata": {},
   "outputs": [
    {
     "name": "stdout",
     "output_type": "stream",
     "text": [
      "NYC2 020 Columns: Index(['FiscalYear', 'PayrollNumber', 'AgencyID', 'AgencyName', 'EmployeeID',\n",
      "       'LastName', 'FirstName', 'AgencyStartDate', 'WorkLocationBorough',\n",
      "       'TitleCode', 'TitleDescription', 'LeaveStatusasofJune30', 'BaseSalary',\n",
      "       'PayBasis', 'RegularHours', 'RegularGrossPaid', 'OTHours',\n",
      "       'TotalOTPaid', 'TotalOtherPay'],\n",
      "      dtype='object')\n",
      "NYC 2021 Columns: Index(['FiscalYear', 'PayrollNumber', 'AgencyCode', 'AgencyName', 'EmployeeID',\n",
      "       'LastName', 'FirstName', 'AgencyStartDate', 'WorkLocationBorough',\n",
      "       'TitleCode', 'TitleDescription', 'LeaveStatusasofJune30', 'BaseSalary',\n",
      "       'PayBasis', 'RegularHours', 'RegularGrossPaid', 'OTHours',\n",
      "       'TotalOTPaid', 'TotalOtherPay'],\n",
      "      dtype='object')\n"
     ]
    }
   ],
   "source": [
    "#print the numbers of columns in each dataset\n",
    "print(\"NYC2 020 Columns:\", nyc2020_df.columns)\n",
    "print(\"NYC 2021 Columns:\", nyc2021_df.columns)"
   ]
  },
  {
   "cell_type": "code",
   "execution_count": 22,
   "metadata": {},
   "outputs": [
    {
     "name": "stdout",
     "output_type": "stream",
     "text": [
      "Columns do not match! Adjust before merging.\n",
      "Extra columns in 2020: {'AgencyID'}\n",
      "Extra columns in 2021: {'AgencyCode'}\n",
      "Combined dataset has 201 rows and 20 columns.\n"
     ]
    }
   ],
   "source": [
    "#Checking id the columns mismatch and merging both into a dataset\n",
    "# Check for column mismatches\n",
    "set_2020 = set(nyc2020_df.columns)\n",
    "set_2021 = set(nyc2021_df.columns)\n",
    "\n",
    "if set_2020 != set_2021:\n",
    "    print(\"Columns do not match! Adjust before merging.\")\n",
    "    print(\"Extra columns in 2020:\", set_2020 - set_2021)\n",
    "    print(\"Extra columns in 2021:\", set_2021 - set_2020)\n",
    "else:\n",
    "    print(\"Columns match, ready to merge.\")\n",
    "\n",
    "# Merge datasets\n",
    "Mergedpayroll_df = pd.concat([nyc2020_df, nyc2021_df], ignore_index=True)\n",
    "print(f\"Combined dataset has {Mergedpayroll_df.shape[0]} rows and {Mergedpayroll_df.shape[1]} columns.\")"
   ]
  },
  {
   "cell_type": "code",
   "execution_count": 23,
   "metadata": {},
   "outputs": [
    {
     "name": "stdout",
     "output_type": "stream",
     "text": [
      "✅ Merged dataset has 201 rows and 20 columns.\n"
     ]
    }
   ],
   "source": [
    "# Ensure both dataframes have the same columns\n",
    "all_columns = set(nyc2020_df.columns).union(set(nyc2021_df.columns))\n",
    "\n",
    "# Adding missing columns to each dataframe with NaN values\n",
    "for col in all_columns:\n",
    "    if col not in nyc2020_df.columns:\n",
    "        nyc2020_df[col] = None  # Add missing column in 2020\n",
    "    if col not in nyc2021_df.columns:\n",
    "        nyc2021_df[col] = None  # Add missing column in 2021\n",
    "\n",
    "# Reorder columns to match before merging\n",
    "nyc2020_df = nyc2020_df[sorted(all_columns)]\n",
    "nyc2021_df = nyc2021_df[sorted(all_columns)]\n",
    "\n",
    "# Merge datasets\n",
    "Mergedpayroll_df = pd.concat([nyc2020_df, nyc2021_df], ignore_index=True)\n",
    "\n",
    "# Confirm the merge\n",
    "print(f\"✅ Merged dataset has {Mergedpayroll_df.shape[0]} rows and {Mergedpayroll_df.shape[1]} columns.\")\n"
   ]
  },
  {
   "cell_type": "code",
   "execution_count": 24,
   "metadata": {},
   "outputs": [
    {
     "name": "stdout",
     "output_type": "stream",
     "text": [
      "<class 'pandas.core.frame.DataFrame'>\n",
      "RangeIndex: 201 entries, 0 to 200\n",
      "Data columns (total 20 columns):\n",
      " #   Column                 Non-Null Count  Dtype  \n",
      "---  ------                 --------------  -----  \n",
      " 0   AgencyCode             101 non-null    object \n",
      " 1   AgencyID               100 non-null    object \n",
      " 2   AgencyName             201 non-null    object \n",
      " 3   AgencyStartDate        201 non-null    object \n",
      " 4   BaseSalary             201 non-null    float64\n",
      " 5   EmployeeID             201 non-null    int64  \n",
      " 6   FirstName              201 non-null    object \n",
      " 7   FiscalYear             201 non-null    int64  \n",
      " 8   LastName               201 non-null    object \n",
      " 9   LeaveStatusasofJune30  201 non-null    object \n",
      " 10  OTHours                201 non-null    float64\n",
      " 11  PayBasis               201 non-null    object \n",
      " 12  PayrollNumber          201 non-null    int64  \n",
      " 13  RegularGrossPaid       201 non-null    float64\n",
      " 14  RegularHours           201 non-null    float64\n",
      " 15  TitleCode              201 non-null    int64  \n",
      " 16  TitleDescription       201 non-null    object \n",
      " 17  TotalOTPaid            201 non-null    float64\n",
      " 18  TotalOtherPay          201 non-null    float64\n",
      " 19  WorkLocationBorough    201 non-null    object \n",
      "dtypes: float64(6), int64(4), object(10)\n",
      "memory usage: 31.5+ KB\n"
     ]
    }
   ],
   "source": [
    "Mergedpayroll_df.info()"
   ]
  },
  {
   "cell_type": "markdown",
   "metadata": {},
   "source": [
    "#### Data Cleaning"
   ]
  },
  {
   "cell_type": "code",
   "execution_count": null,
   "metadata": {},
   "outputs": [],
   "source": [
    "#Filling two columns 'AgencyID' and 'AgencyCode' having  null values for a clean dataset\n",
    "Mergedpayroll_df[['AgencyID', 'AgencyCode']] = Mergedpayroll_df[['AgencyID', 'AgencyCode']].fillna(0.0)\n"
   ]
  },
  {
   "cell_type": "code",
   "execution_count": null,
   "metadata": {},
   "outputs": [
    {
     "name": "stdout",
     "output_type": "stream",
     "text": [
      "<class 'pandas.core.frame.DataFrame'>\n",
      "RangeIndex: 201 entries, 0 to 200\n",
      "Data columns (total 20 columns):\n",
      " #   Column                 Non-Null Count  Dtype  \n",
      "---  ------                 --------------  -----  \n",
      " 0   AgencyCode             201 non-null    float64\n",
      " 1   AgencyID               201 non-null    float64\n",
      " 2   AgencyName             201 non-null    object \n",
      " 3   AgencyStartDate        201 non-null    object \n",
      " 4   BaseSalary             201 non-null    float64\n",
      " 5   EmployeeID             201 non-null    int64  \n",
      " 6   FirstName              201 non-null    object \n",
      " 7   FiscalYear             201 non-null    int64  \n",
      " 8   LastName               201 non-null    object \n",
      " 9   LeaveStatusasofJune30  201 non-null    object \n",
      " 10  OTHours                201 non-null    float64\n",
      " 11  PayBasis               201 non-null    object \n",
      " 12  PayrollNumber          201 non-null    int64  \n",
      " 13  RegularGrossPaid       201 non-null    float64\n",
      " 14  RegularHours           201 non-null    float64\n",
      " 15  TitleCode              201 non-null    int64  \n",
      " 16  TitleDescription       201 non-null    object \n",
      " 17  TotalOTPaid            201 non-null    float64\n",
      " 18  TotalOtherPay          201 non-null    float64\n",
      " 19  WorkLocationBorough    201 non-null    object \n",
      "dtypes: float64(8), int64(4), object(8)\n",
      "memory usage: 31.5+ KB\n"
     ]
    }
   ],
   "source": [
    "# verifyimg all dataset are clean with no missing values\n",
    "Mergedpayroll_df.info()"
   ]
  },
  {
   "cell_type": "code",
   "execution_count": 28,
   "metadata": {},
   "outputs": [],
   "source": [
    "Mergedpayroll_df = Mergedpayroll_df.drop_duplicates()"
   ]
  },
  {
   "cell_type": "code",
   "execution_count": 30,
   "metadata": {},
   "outputs": [],
   "source": [
    "Mergedpayroll_df['AgencyStartDate'] = pd.to_datetime(Mergedpayroll_df['AgencyStartDate'])"
   ]
  },
  {
   "cell_type": "code",
   "execution_count": 32,
   "metadata": {},
   "outputs": [
    {
     "name": "stdout",
     "output_type": "stream",
     "text": [
      "<class 'pandas.core.frame.DataFrame'>\n",
      "RangeIndex: 201 entries, 0 to 200\n",
      "Data columns (total 20 columns):\n",
      " #   Column                 Non-Null Count  Dtype         \n",
      "---  ------                 --------------  -----         \n",
      " 0   AgencyCode             201 non-null    float64       \n",
      " 1   AgencyID               201 non-null    float64       \n",
      " 2   AgencyName             201 non-null    object        \n",
      " 3   AgencyStartDate        201 non-null    datetime64[ns]\n",
      " 4   BaseSalary             201 non-null    float64       \n",
      " 5   EmployeeID             201 non-null    int64         \n",
      " 6   FirstName              201 non-null    object        \n",
      " 7   FiscalYear             201 non-null    int64         \n",
      " 8   LastName               201 non-null    object        \n",
      " 9   LeaveStatusasofJune30  201 non-null    object        \n",
      " 10  OTHours                201 non-null    float64       \n",
      " 11  PayBasis               201 non-null    object        \n",
      " 12  PayrollNumber          201 non-null    int64         \n",
      " 13  RegularGrossPaid       201 non-null    float64       \n",
      " 14  RegularHours           201 non-null    float64       \n",
      " 15  TitleCode              201 non-null    int64         \n",
      " 16  TitleDescription       201 non-null    object        \n",
      " 17  TotalOTPaid            201 non-null    float64       \n",
      " 18  TotalOtherPay          201 non-null    float64       \n",
      " 19  WorkLocationBorough    201 non-null    object        \n",
      "dtypes: datetime64[ns](1), float64(8), int64(4), object(7)\n",
      "memory usage: 31.5+ KB\n"
     ]
    },
    {
     "data": {
      "text/plain": [
       "(201, 20)"
      ]
     },
     "execution_count": 32,
     "metadata": {},
     "output_type": "execute_result"
    }
   ],
   "source": [
    "Mergedpayroll_df.info()\n",
    "Mergedpayroll_df.shape"
   ]
  },
  {
   "cell_type": "code",
   "execution_count": 40,
   "metadata": {},
   "outputs": [
    {
     "data": {
      "text/html": [
       "<div>\n",
       "<style scoped>\n",
       "    .dataframe tbody tr th:only-of-type {\n",
       "        vertical-align: middle;\n",
       "    }\n",
       "\n",
       "    .dataframe tbody tr th {\n",
       "        vertical-align: top;\n",
       "    }\n",
       "\n",
       "    .dataframe thead th {\n",
       "        text-align: right;\n",
       "    }\n",
       "</style>\n",
       "<table border=\"1\" class=\"dataframe\">\n",
       "  <thead>\n",
       "    <tr style=\"text-align: right;\">\n",
       "      <th></th>\n",
       "      <th>AgencyID</th>\n",
       "      <th>AgencyName</th>\n",
       "      <th>AgencyCode</th>\n",
       "      <th>AgencyStartDate</th>\n",
       "    </tr>\n",
       "  </thead>\n",
       "  <tbody>\n",
       "    <tr>\n",
       "      <th>0</th>\n",
       "      <td>2120.0</td>\n",
       "      <td>OFFICE OF EMERGENCY MANAGEMENT</td>\n",
       "      <td>0.0</td>\n",
       "      <td>2016-09-12</td>\n",
       "    </tr>\n",
       "    <tr>\n",
       "      <th>1</th>\n",
       "      <td>2120.0</td>\n",
       "      <td>OFFICE OF EMERGENCY MANAGEMENT</td>\n",
       "      <td>0.0</td>\n",
       "      <td>2013-09-16</td>\n",
       "    </tr>\n",
       "  </tbody>\n",
       "</table>\n",
       "</div>"
      ],
      "text/plain": [
       "   AgencyID                      AgencyName  AgencyCode AgencyStartDate\n",
       "0    2120.0  OFFICE OF EMERGENCY MANAGEMENT         0.0      2016-09-12\n",
       "1    2120.0  OFFICE OF EMERGENCY MANAGEMENT         0.0      2013-09-16"
      ]
     },
     "execution_count": 40,
     "metadata": {},
     "output_type": "execute_result"
    }
   ],
   "source": [
    "#Agency table\n",
    "agency = Mergedpayroll_df[['AgencyID','AgencyName','AgencyCode','AgencyStartDate']].copy().drop_duplicates().reset_index(drop=True)\n",
    "\n",
    "agency.head(2)"
   ]
  },
  {
   "cell_type": "code",
   "execution_count": 37,
   "metadata": {},
   "outputs": [
    {
     "data": {
      "text/plain": [
       "(184, 5)"
      ]
     },
     "execution_count": 37,
     "metadata": {},
     "output_type": "execute_result"
    }
   ],
   "source": [
    "agency.shape"
   ]
  },
  {
   "cell_type": "code",
   "execution_count": 38,
   "metadata": {},
   "outputs": [
    {
     "data": {
      "text/html": [
       "<div>\n",
       "<style scoped>\n",
       "    .dataframe tbody tr th:only-of-type {\n",
       "        vertical-align: middle;\n",
       "    }\n",
       "\n",
       "    .dataframe tbody tr th {\n",
       "        vertical-align: top;\n",
       "    }\n",
       "\n",
       "    .dataframe thead th {\n",
       "        text-align: right;\n",
       "    }\n",
       "</style>\n",
       "<table border=\"1\" class=\"dataframe\">\n",
       "  <thead>\n",
       "    <tr style=\"text-align: right;\">\n",
       "      <th></th>\n",
       "      <th>index</th>\n",
       "      <th>EmployeeID</th>\n",
       "      <th>LastName</th>\n",
       "      <th>FirstName</th>\n",
       "      <th>TitleCode</th>\n",
       "      <th>TitleDescription</th>\n",
       "    </tr>\n",
       "  </thead>\n",
       "  <tbody>\n",
       "    <tr>\n",
       "      <th>0</th>\n",
       "      <td>0</td>\n",
       "      <td>10001</td>\n",
       "      <td>GEAGER</td>\n",
       "      <td>VERONICA</td>\n",
       "      <td>40447</td>\n",
       "      <td>EMERGENCY PREPAREDNESS MANAGER</td>\n",
       "    </tr>\n",
       "    <tr>\n",
       "      <th>1</th>\n",
       "      <td>1</td>\n",
       "      <td>149612</td>\n",
       "      <td>ROTTA</td>\n",
       "      <td>JONATHAN</td>\n",
       "      <td>40447</td>\n",
       "      <td>EMERGENCY PREPAREDNESS MANAGER</td>\n",
       "    </tr>\n",
       "  </tbody>\n",
       "</table>\n",
       "</div>"
      ],
      "text/plain": [
       "   index  EmployeeID LastName FirstName  TitleCode  \\\n",
       "0      0       10001   GEAGER  VERONICA      40447   \n",
       "1      1      149612    ROTTA  JONATHAN      40447   \n",
       "\n",
       "                 TitleDescription  \n",
       "0  EMERGENCY PREPAREDNESS MANAGER  \n",
       "1  EMERGENCY PREPAREDNESS MANAGER  "
      ]
     },
     "execution_count": 38,
     "metadata": {},
     "output_type": "execute_result"
    }
   ],
   "source": [
    "#employee table\n",
    "employee = Mergedpayroll_df[['EmployeeID','LastName', 'FirstName','TitleCode','TitleDescription']].copy().drop_duplicates().reset_index()\n",
    "\n",
    "employee.head(2)"
   ]
  },
  {
   "cell_type": "code",
   "execution_count": null,
   "metadata": {},
   "outputs": [
    {
     "data": {
      "text/plain": [
       "(200, 6)"
      ]
     },
     "execution_count": 39,
     "metadata": {},
     "output_type": "execute_result"
    }
   ],
   "source": [
    "#facts table\n",
    "facts_table = Mergedpayroll_df[['EmployeeID','LastName', 'FirstName','TitleCode','TitleDescription']].copy().drop_duplicates().reset_index()\n",
    "\n",
    "employee.head(2)"
   ]
  },
  {
   "cell_type": "code",
   "execution_count": null,
   "metadata": {},
   "outputs": [],
   "source": []
  },
  {
   "cell_type": "code",
   "execution_count": null,
   "metadata": {},
   "outputs": [],
   "source": []
  }
 ],
 "metadata": {
  "kernelspec": {
   "display_name": "myenv",
   "language": "python",
   "name": "python3"
  },
  "language_info": {
   "codemirror_mode": {
    "name": "ipython",
    "version": 3
   },
   "file_extension": ".py",
   "mimetype": "text/x-python",
   "name": "python",
   "nbconvert_exporter": "python",
   "pygments_lexer": "ipython3",
   "version": "3.9.20"
  }
 },
 "nbformat": 4,
 "nbformat_minor": 2
}
